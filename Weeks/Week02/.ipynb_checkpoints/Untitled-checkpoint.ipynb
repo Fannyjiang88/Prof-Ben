{
 "cells": [
  {
   "cell_type": "markdown",
   "id": "34f627ac-3f26-4f22-adb2-01a9dcea24df",
   "metadata": {},
   "source": [
    "# Data Fundamentals\n",
    "\n",
    "* Data\n",
    "  * General data formatting: docx, txt, xlsx, xml, csv, json, html, hdf, db, ...\n",
    "  * Python data: numbers, strings, lists, dicts\n",
    "* retrieving, cleaning, wrangling, sampling, and scraping"
   ]
  },
  {
   "cell_type": "markdown",
   "id": "93fc3de4-ff56-4e7e-b91d-ab19ced6d8a9",
   "metadata": {},
   "source": [
    "# Coding Crash Course"
   ]
  },
  {
   "cell_type": "markdown",
   "id": "91553d0b-18f1-4966-bb1d-9b94b6e2849b",
   "metadata": {},
   "source": [
    "## Bash\n",
    "\n",
    "* navigate the environment\n",
    "* list contenst\n",
    "* mk and del dirs\n",
    "* see contents\n",
    "* find help\n"
   ]
  },
  {
   "cell_type": "markdown",
   "id": "f3b32bb2-cf35-4c2c-a067-f2917277cf53",
   "metadata": {},
   "source": [
    "## Git\n",
    "\n",
    "* clone the repo you made\n",
    "* change the readme\n",
    "* add the change\n",
    "* commit the change with message\n",
    "* push the change\n",
    "\n",
    "* make change on GitHub\n",
    "* fast-track the commit\n",
    "* check the history\n",
    "\n",
    "* go back to jupyter\n",
    "* git pull the changes\n",
    "\n",
    "* mention the possibility of conflicts if you modify in both places\n",
    "* show conflict by modify in github, modify locally, commit in both, then pull on jupyter\n",
    "* have to resolve conflicts\n",
    "* best to just make all modifications in jupyterhub, then push to github"
   ]
  },
  {
   "cell_type": "markdown",
   "id": "ab06d46d-55ed-4798-ad00-e88234354381",
   "metadata": {},
   "source": [
    "## Python\n",
    "\n",
    "* let's step through the basic ideas of what we need for our analysis\n",
    "  * count\n",
    "  * frequency\n",
    "  * summary\n",
    "  * print\n",
    "  * string\n",
    "  * is a word in the text (iterating over all words, checking whether a word is equal to what we're search for)\n",
    "  \n",
    "* string -- what types of data can you work with in python?\n",
    "  * strings (like \"hello\" or 'goodbye' or 'this quote has \" for quote marks')\n",
    "  * numbers (integers like 1,2,3,... or floats like 1.3, 2.0, 5000.123, 3.14159, ...)\n",
    "  * true/false (boolean)\n",
    "\n",
    "* count -- basic math\n",
    "  * add (+), subtract (-), divide (/), multiply (*)\n",
    "\n",
    "* is a word in the text -- loops and conditions\n",
    "  * checking whether a word is equal to what we're search for\n",
    "    * equality (==), less than (<), greater than (>), ...\n",
    "    * if a word == what we're looking for, then do something about it\n",
    "    \n",
    "  * loops\n",
    "    * record the frequency of every word\n",
    "      * for every word, record the frequency\n",
    "      * for every word in (our text), do something\n",
    "      * for word in text: something\n",
    "\n",
    "* every word in the text -- our text is a collection of words\n",
    "  * collections\n",
    "    * list -- ordered list that you can index by number\n",
    "      * week[0] = 'intro'\n",
    "      * week[1] = 'python'\n",
    "    * dictionary -- un-ordered list that you can index by a \"key\"\n",
    "      * macbeth_word_count['the'] = 128\n",
    "      * macbeth_word_count['macbeth'] = 57\n",
    "      \n",
    "* print -- input and output\n",
    "  * handled with functions\n",
    "  * perform a named action \"print\", \"breathe\", \"walk\", \"drive\"\n",
    "  * or we can make our own\n",
    "  \n",
    "* modules -- variables and functions that others have defined and that we can use\n",
    "  * math.cos(0) = 1\n",
    "  * math.sqrt(4) = 2\n",
    "  \n",
    "  * requests.get(webpage)\n",
    "    * you don't have to know how it gets the webpage, you only have to know that it gets a webpage.... and you have to know how to tell it what to do (what parameters you have to specify) and what it returns back to you (text file? numbers? a single string? multiple things?)"
   ]
  },
  {
   "cell_type": "markdown",
   "id": "b6c9e456-1426-4335-acbb-40ad3a3a72be",
   "metadata": {},
   "source": [
    "## SQL"
   ]
  },
  {
   "cell_type": "code",
   "execution_count": null,
   "id": "16bbefb8-5678-4e4f-a117-7fbe560d5c97",
   "metadata": {},
   "outputs": [],
   "source": []
  }
 ],
 "metadata": {
  "kernelspec": {
   "display_name": "Python 3 (ipykernel)",
   "language": "python",
   "name": "python3"
  },
  "language_info": {
   "codemirror_mode": {
    "name": "ipython",
    "version": 3
   },
   "file_extension": ".py",
   "mimetype": "text/x-python",
   "name": "python",
   "nbconvert_exporter": "python",
   "pygments_lexer": "ipython3",
   "version": "3.9.6"
  }
 },
 "nbformat": 4,
 "nbformat_minor": 5
}
